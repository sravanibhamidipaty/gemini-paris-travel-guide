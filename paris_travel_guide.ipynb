{
  "nbformat": 4,
  "nbformat_minor": 0,
  "metadata": {
    "colab": {
      "provenance": []
    },
    "kernelspec": {
      "name": "python3",
      "display_name": "Python 3"
    },
    "language_info": {
      "name": "python"
    }
  },
  "cells": [
    {
      "cell_type": "code",
      "execution_count": 4,
      "metadata": {
        "colab": {
          "base_uri": "https://localhost:8080/",
          "height": 124
        },
        "id": "Nidd4dICmh7L",
        "outputId": "e97c1223-ebcd-42e3-e85d-af358ada2c54"
      },
      "outputs": [
        {
          "output_type": "stream",
          "name": "stdout",
          "text": [
            "Approximately 4 miles.\n",
            "\n",
            "At the western end of the Champs-Élysées.\n",
            "\n",
            "Mona Lisa, Venus de Milo, Winged Victory of Samothrace.\n",
            "\n"
          ]
        }
      ],
      "source": [
        "import os\n",
        "import google.generativeai as genai\n",
        "\n",
        "genai.configure(api_key=os.environ[\"GOOGLE_API_KEY\"])\n",
        "\n",
        "model = genai.GenerativeModel(\"gemini-1.5-flash\")\n",
        "\n",
        "chat = model.start_chat(history=[\n",
        "    {\n",
        "        \"role\": \"user\",\n",
        "        \"parts\": [\"You are a travel guide designed to provide information about landmarks that tourists should explore in Paris. You speak in a concise manner. What is the most famous landmark in Paris?\"]\n",
        "    },\n",
        "    {\n",
        "        \"role\": \"model\",\n",
        "        \"parts\": [\"The most famous landmark in Paris is the Eiffel Tower.\"]\n",
        "    },\n",
        "])\n",
        "\n",
        "questions = [\n",
        "    \"How far away is the Louvre from the Eiffel Tower (in miles) if you are driving?\",\n",
        "    \"Where is the Arc de Triomphe?\",\n",
        "    \"What are the must-see artworks at the Louvre Museum?\"\n",
        "]\n",
        "\n",
        "\n",
        "for question in questions:\n",
        "    response = chat.send_message(question)\n",
        "    print(response.text)"
      ]
    }
  ]
}